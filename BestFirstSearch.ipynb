{
  "nbformat": 4,
  "nbformat_minor": 0,
  "metadata": {
    "colab": {
      "provenance": []
    },
    "kernelspec": {
      "name": "python3",
      "display_name": "Python 3"
    },
    "language_info": {
      "name": "python"
    }
  },
  "cells": [
    {
      "cell_type": "code",
      "execution_count": 1,
      "metadata": {
        "colab": {
          "base_uri": "https://localhost:8080/"
        },
        "id": "b0dYIhYg_C3G",
        "outputId": "75627c2a-50db-4597-ae3e-37d44c09a161"
      },
      "outputs": [
        {
          "output_type": "stream",
          "name": "stdout",
          "text": [
            "Optimal Path:\n",
            "0 2 6 9 \n"
          ]
        }
      ],
      "source": [
        "from queue import PriorityQueue\n",
        "\n",
        "v = 10\n",
        "graph = [[] for i in range(v)]\n",
        "\n",
        "def bestfs(act_source, target, v):\n",
        "    vis = [False] * v\n",
        "    pq = PriorityQueue()\n",
        "    pq.put((0, act_source))\n",
        "    vis[act_source] = True\n",
        "    print(\"Optimal Path:\")\n",
        "\n",
        "    while not pq.empty():\n",
        "        u = pq.get()[1]\n",
        "        print(u, end=\" \")\n",
        "\n",
        "        if u == target:\n",
        "            break\n",
        "\n",
        "        for v, c in graph[u]:\n",
        "            if not vis[v]:\n",
        "                vis[v] = True\n",
        "                pq.put((c, v))\n",
        "    print()\n",
        "\n",
        "def addedge(u, v, h):\n",
        "    graph[u].append((v, h))\n",
        "    graph[v].append((u, h))\n",
        "\n",
        "addedge(0, 1, 12)\n",
        "addedge(0, 2, 4)\n",
        "addedge(1, 3, 7)\n",
        "addedge(1, 4, 3)\n",
        "addedge(2, 5, 8)\n",
        "addedge(2, 6, 2)\n",
        "addedge(5, 7, 4)\n",
        "addedge(6, 8, 9)\n",
        "addedge(6, 9, 0)\n",
        "\n",
        "source = 0\n",
        "target = 9\n",
        "bestfs(source, target, v)\n"
      ]
    }
  ]
}